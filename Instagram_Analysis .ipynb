{
 "cells": [
  {
   "cell_type": "code",
   "execution_count": null,
   "metadata": {},
   "outputs": [],
   "source": [
    "import pandas as pd\n",
    "import numpy as np\n",
    "import warnings\n",
    "warnings.filterwarnings(\"ignore\")\n",
    "\n",
    "def read_data_from_csv():\n",
    "    comments=pd.read_csv('comments.csv')\n",
    "    return comments\n",
    "\n",
    "\n",
    "def data_cleaning():\n",
    "    #DO NOT REMOVE FOLLOWING LINE\n",
    "    #call remove_unwanted_columns() function to get dataframe\n",
    "    \n",
    "    comments=read_data_from_csv()\n",
    "\n",
    "    #Remove Unwanted columns\n",
    "    comments.drop([\"posted date\",\"emoji used\",\"Hashtags used count\"], axis=1, inplace=True)\n",
    "    #rename columns, only these columns are allowed in the dataset\n",
    "    # 1.\tid\n",
    "    # 2.\tcomment_text\n",
    "    # 3.\tuser_id\n",
    "    # 4.\tphoto_id\n",
    "    # 5.\tcreated_at\n",
    "    comments = comments.rename(columns={\n",
    "        'id': 'id',\n",
    "        'comment': 'comment_text',\n",
    "        'User id': 'user_id',\n",
    "        'Photo id': 'photo_id',\n",
    "        'created Timestamp': 'created_at',\n",
    "        'User  id': 'user_id'\n",
    "    })    \n",
    "    #export cleaned Dataset to newcsv file named \"comments_cleaned.csv\"\n",
    "    comments.to_csv('comments_cleaned.csv')\n",
    "    return comments\n",
    "\n",
    "\n",
    "#Do not Delete the Following function\n",
    "def task_runner():\n",
    "    data_cleaning()\n",
    "\n",
    "task_runner()"
   ]
  },
  {
   "cell_type": "code",
   "execution_count": null,
   "metadata": {},
   "outputs": [],
   "source": [
    "import pandas as pd\n",
    "import numpy as np\n",
    "import warnings\n",
    "warnings.filterwarnings(\"ignore\")\n",
    "\n",
    "def read_data_from_csv():\n",
    "    follows=pd.read_csv('follows.csv')\n",
    "    return follows\n",
    "\n",
    "\n",
    "def data_cleaning():\n",
    "    #DO NOT REMOVE FOLLOWING LINE\n",
    "    #call remove_unwanted_columns() function to get dataframe\n",
    "    follows=read_data_from_csv()\n",
    "\n",
    "    #Remove Unwanted columns\n",
    "    follows.drop([\"is follower active\",\"followee Acc status\"], axis=1, inplace=True)\n",
    "    #rename columns, only these columns are allowed in the dataset\n",
    "    \n",
    "    follows = follows.rename(columns={\n",
    "        'follower': 'follower_id',\n",
    "        'followee': 'followee_id',\n",
    "        'created time': 'created_at',\n",
    "        'followee ': 'followee_id',\n",
    "\n",
    "    })\n",
    "    \n",
    "    \n",
    "    #rename columns, only these columns are allowed in the dataset\n",
    "    # 1.\tfollower_id\n",
    "    # 2.\tfollowee_id\n",
    "    # 3.\tcreated_at\n",
    "    \n",
    "    #export cleaned Dataset to newcsv file named \"follows_cleaned.csv\"\n",
    "    follows.to_csv('follows_cleaned.csv')\n",
    "    return follows\n",
    "\n",
    "\n",
    "#Do not Delete the Following function\n",
    "def task_runner():\n",
    "    data_cleaning()\n",
    "\n",
    "task_runner()"
   ]
  },
  {
   "cell_type": "code",
   "execution_count": null,
   "metadata": {},
   "outputs": [],
   "source": [
    "import pandas as pd\n",
    "import numpy as np\n",
    "import warnings\n",
    "warnings.filterwarnings(\"ignore\")\n",
    "\n",
    "def read_data_from_csv():\n",
    "    likes=pd.read_csv('likes.csv')\n",
    "    return likes\n",
    "\n",
    "\n",
    "def data_cleaning():\n",
    "    #DO NOT REMOVE FOLLOWING LINE\n",
    "    #call remove_unwanted_columns() function to get dataframe\n",
    "    likes=read_data_from_csv()\n",
    "\n",
    "    #Remove Unwanted columns\n",
    "    likes.drop([\"following or not\",\"like type\"], axis=1, inplace=True)\n",
    "\n",
    "    #rename columns, only these columns are allowed in the dataset\n",
    "    # 1.\tuser_id\n",
    "    # 2.\tphoto_id\n",
    "    # 3.\tcreated_at\n",
    "    likes = likes.rename(columns={\n",
    "        'user ': 'user_id',\n",
    "        'photo': 'photo_id',\n",
    "        'created time': 'created_at',\n",
    "    \n",
    "    })\n",
    "    \n",
    "    #export cleaned Dataset to newcsv file named \"likes_cleaned.csv\"\n",
    "    likes.to_csv('likes_cleaned.csv')\n",
    "    return likes\n",
    "\n",
    "\n",
    "#Do not Delete the Following function\n",
    "def task_runner():\n",
    "    data_cleaning()\n",
    "\n",
    "task_runner()"
   ]
  },
  {
   "cell_type": "code",
   "execution_count": null,
   "metadata": {},
   "outputs": [],
   "source": [
    "import pandas as pd\n",
    "import numpy as np\n",
    "import warnings\n",
    "warnings.filterwarnings(\"ignore\")\n",
    "\n",
    "def read_data_from_csv():\n",
    "    photo_tags=pd.read_csv('photo_tags.csv')\n",
    "    return photo_tags\n",
    "\n",
    "\n",
    "def data_cleaning():\n",
    "    #DO NOT REMOVE FOLLOWING LINE\n",
    "    #call remove_unwanted_columns() function to get dataframe\n",
    "    photo_tags=read_data_from_csv()\n",
    "\n",
    "    #Remove Unwanted columns\n",
    "    photo_tags = photo_tags.drop([\"user id\"], axis=1)\n",
    "\n",
    "    \n",
    "    #rename columns, only these columns are allowed in the dataset\n",
    "    # 1.\tphoto_id\n",
    "    # 2.\ttag_id\n",
    "    photo_tags = photo_tags.rename(columns={\n",
    "        'photo': 'photo_id',\n",
    "        'tag ID': 'tag_id',\n",
    "        \n",
    "    })\n",
    "    \n",
    "    #export cleaned Dataset to newcsv file named \"photo_tags_cleaned.csv\"\n",
    "    photo_tags.to_csv('photo_tags_cleaned.csv')\n",
    "    return photo_tags\n",
    "\n",
    "\n",
    "#Do not Delete the Following function\n",
    "def task_runner():\n",
    "    data_cleaning()\n",
    "\n",
    "task_runner()"
   ]
  },
  {
   "cell_type": "code",
   "execution_count": null,
   "metadata": {},
   "outputs": [],
   "source": [
    "import pandas as pd\n",
    "import numpy as np\n",
    "import warnings\n",
    "warnings.filterwarnings(\"ignore\")\n",
    "\n",
    "def read_data_from_csv():\n",
    "    photos=pd.read_csv('photos.csv')\n",
    "    return photos\n",
    "\n",
    "\n",
    "def data_cleaning():\n",
    "    #DO NOT REMOVE FOLLOWING LINE\n",
    "    #call remove_unwanted_columns() function to get dataframe\n",
    "    photos=read_data_from_csv()\n",
    "\n",
    "    #Remove Unwanted columns\n",
    "    photos.drop([\"Insta filter used\",\"photo type\"], axis=1, inplace=True)\n",
    "\n",
    "    #rename columns, only these columns are allowed in the dataset\n",
    "    # 1.\tid\n",
    "    # 2.\timage_url\n",
    "    # 3.\tuser_id\n",
    "    # 4.\tcreated_date\n",
    "    photos = photos.rename(columns={\n",
    "        'id': 'id',\n",
    "        'image link': 'image_url',\n",
    "        'user ID': 'user_id',\n",
    "        'created dat' : 'created_date'\n",
    "    \n",
    "    })\n",
    "    \n",
    "    #export cleaned Dataset to newcsv file named \"photos_cleaned.csv\"\n",
    "    photos.to_csv('photos_cleaned.csv')\n",
    "    return photos\n",
    "\n",
    "\n",
    "#Do not Delete the Following function\n",
    "def task_runner():\n",
    "    data_cleaning()\n",
    "\n",
    "task_runner()"
   ]
  },
  {
   "cell_type": "code",
   "execution_count": null,
   "metadata": {},
   "outputs": [],
   "source": [
    "import pandas as pd\n",
    "import numpy as np\n",
    "import warnings\n",
    "warnings.filterwarnings(\"ignore\")\n",
    "\n",
    "def read_data_from_csv():\n",
    "    tags=pd.read_csv('tags.csv')\n",
    "    return tags\n",
    "\n",
    "\n",
    "def data_cleaning():\n",
    "    #DO NOT REMOVE FOLLOWING LINE\n",
    "    #call remove_unwanted_columns() function to get dataframe\n",
    "    tags=read_data_from_csv()\n",
    "\n",
    "    #Remove Unwanted columns\n",
    "    tags = tags.drop([\"location\"] , axis=1)\n",
    "    \n",
    "    \n",
    "    \n",
    "    #rename columns, only these columns are allowed in the dataset\n",
    "    # 1.\tid\n",
    "    # 2.\ttag_name\n",
    "    # 3.\tcreated_at\n",
    "    tags = tags.rename(columns={\n",
    "        'id' : 'id',\n",
    "        'tag text' : 'tag_name',\n",
    "        'created time' : 'created_at'\n",
    "        \n",
    "    })\n",
    "    \n",
    "    #export cleaned Dataset to newcsv file named \"tags_cleaned.csv\"\n",
    "    tags.to_csv('tags_cleaned.csv')\n",
    "    return tags\n",
    "\n",
    "\n",
    "#Do not Delete the Following function\n",
    "def task_runner():\n",
    "    data_cleaning()\n",
    "\n",
    "task_runner()"
   ]
  },
  {
   "cell_type": "code",
   "execution_count": null,
   "metadata": {},
   "outputs": [],
   "source": [
    "import pandas as pd\n",
    "import numpy as np\n",
    "import warnings\n",
    "warnings.filterwarnings(\"ignore\")\n",
    "\n",
    "def read_data_from_csv():\n",
    "    users=pd.read_csv('users.csv')\n",
    "    return users\n",
    "\n",
    "\n",
    "def data_cleaning():\n",
    "    #DO NOT REMOVE FOLLOWING LINE\n",
    "    #call remove_unwanted_columns() function to get dataframe\n",
    "    users=read_data_from_csv()\n",
    "\n",
    "    #Remove Unwanted columns\n",
    "    users.drop([\"private/public\",\"post count\",\"Verified status\"], axis=1, inplace = True)\n",
    "    \n",
    "    \n",
    "    \n",
    "    #rename columns, only these columns are allowed in the dataset\n",
    "    # 1.\tid\n",
    "    # 2.\tusername\n",
    "    # 3.\tcreated_at\n",
    "    \n",
    "    users = users.rename(columns={\n",
    "        \"id\" : \"id\",\n",
    "        \"name\" : \"username\",\n",
    "        \"created time\" : \"created_at\"\n",
    "    })\n",
    "    \n",
    "    #export cleaned Dataset to newcsv file named \"users_cleaned.csv\"\n",
    "    users.to_csv('users_cleaned.csv')\n",
    "    return users\n",
    "\n",
    "\n",
    "#Do not Delete the Following function\n",
    "def task_runner():\n",
    "    data_cleaning()\n",
    "\n",
    "task_runner()"
   ]
  },
  {
   "cell_type": "markdown",
   "metadata": {},
   "source": [
    "**Find the 5 oldest users.**"
   ]
  },
  {
   "cell_type": "code",
   "execution_count": null,
   "metadata": {},
   "outputs": [],
   "source": [
    "select id, username, created_at\n",
    "from users\n",
    "ORDER BY created_at asc\n",
    "LIMIT 5;"
   ]
  },
  {
   "cell_type": "markdown",
   "metadata": {},
   "source": [
    "**What day of the week do most users register on?**\n",
    "**We need to figure out when to schedule an ad campgain**\n"
   ]
  },
  {
   "cell_type": "code",
   "execution_count": null,
   "metadata": {},
   "outputs": [],
   "source": [
    "SELECT DAYNAME(created_at) AS `day of the week`, COUNT(*) AS `number of registrations`\n",
    "FROM users\n",
    "GROUP BY `day of the week`\n",
    "ORDER BY `number of registrations` DESC\n",
    "LIMIT 1;"
   ]
  },
  {
   "cell_type": "markdown",
   "metadata": {},
   "source": [
    "**We want to target our inactive users with an email campaign. Find the users who have never posted a photo.**"
   ]
  },
  {
   "cell_type": "code",
   "execution_count": null,
   "metadata": {},
   "outputs": [],
   "source": [
    "SELECT username\n",
    "FROM users\n",
    "WHERE id NOT IN (\n",
    "SELECT DISTINCT user_id\n",
    "FROM photos\n",
    ");"
   ]
  },
  {
   "cell_type": "markdown",
   "metadata": {},
   "source": [
    "**We're running a new contest to see who can get the most likes on a single photo. WHO WON?**"
   ]
  },
  {
   "cell_type": "code",
   "execution_count": null,
   "metadata": {},
   "outputs": [],
   "source": [
    "SELECT users.username,photos.id,photos.image_url,COUNT(*) AS Total_Likes\n",
    "FROM likes\n",
    "JOIN photos ON photos.id = likes.photo_id\n",
    "JOIN users ON users.id = likes.user_id\n",
    "GROUP BY photos.id\n",
    "ORDER BY Total_Likes DESC\n",
    "LIMIT 1;"
   ]
  },
  {
   "cell_type": "markdown",
   "metadata": {},
   "source": [
    "**Our Investors want to know...How many times does the average user post? (total number of photos/total number of users)**"
   ]
  },
  {
   "cell_type": "code",
   "execution_count": null,
   "metadata": {},
   "outputs": [],
   "source": [
    "SELECT ROUND((SELECT COUNT(*)FROM photos)/(SELECT COUNT(*) FROM users),2);"
   ]
  },
  {
   "cell_type": "markdown",
   "metadata": {},
   "source": [
    "**user ranking by postings higher to lower**"
   ]
  },
  {
   "cell_type": "code",
   "execution_count": null,
   "metadata": {},
   "outputs": [],
   "source": [
    "SELECT users.username,COUNT(photos.image_url)\n",
    "FROM users\n",
    "JOIN photos ON users.id = photos.user_id\n",
    "GROUP BY users.id\n",
    "ORDER BY 2 DESC;"
   ]
  },
  {
   "cell_type": "markdown",
   "metadata": {},
   "source": [
    "**Total Posts by users (longer versionof SELECT COUNT(*)FROM photos)**"
   ]
  },
  {
   "cell_type": "code",
   "execution_count": null,
   "metadata": {},
   "outputs": [],
   "source": [
    "SELECT SUM(user_posts.total_posts_per_user)\n",
    "FROM (SELECT users.username,COUNT(photos.image_url) AS total_posts_per_user\n",
    "\t\tFROM users\n",
    "\t\tJOIN photos ON users.id = photos.user_id\n",
    "\t\tGROUP BY users.id) AS user_posts;"
   ]
  },
  {
   "cell_type": "markdown",
   "metadata": {},
   "source": [
    "**Total numbers of users who have posted at least one time**"
   ]
  },
  {
   "cell_type": "code",
   "execution_count": null,
   "metadata": {},
   "outputs": [],
   "source": [
    "SELECT COUNT(DISTINCT(users.id)) AS total_number_of_users_with_posts\n",
    "FROM users\n",
    "JOIN photos ON users.id = photos.user_id;"
   ]
  },
  {
   "cell_type": "markdown",
   "metadata": {},
   "source": [
    "**A brand wants to know which hashtags to use in a post. What are the top 5 most commonly used hashtags?**"
   ]
  },
  {
   "cell_type": "code",
   "execution_count": null,
   "metadata": {},
   "outputs": [],
   "source": [
    "SELECT tag_name, COUNT(tag_name) AS total\n",
    "FROM tags\n",
    "JOIN photo_tags ON tags.id = photo_tags.tag_id\n",
    "GROUP BY tags.id\n",
    "ORDER BY total DESC;"
   ]
  },
  {
   "cell_type": "markdown",
   "metadata": {},
   "source": [
    "**We have a small problem with bots on our site. Find users who have liked every single photo on the site**"
   ]
  },
  {
   "cell_type": "code",
   "execution_count": null,
   "metadata": {},
   "outputs": [],
   "source": [
    "SELECT users.id,username, COUNT(users.id) As total_likes_by_user\n",
    "FROM users\n",
    "JOIN likes ON users.id = likes.user_id\n",
    "GROUP BY users.id\n",
    "HAVING total_likes_by_user = (SELECT COUNT(*) FROM photos);\n"
   ]
  },
  {
   "cell_type": "markdown",
   "metadata": {},
   "source": [
    "**We also have a problem with celebrities. Find users who have never commented on a photo**"
   ]
  },
  {
   "cell_type": "code",
   "execution_count": null,
   "metadata": {},
   "outputs": [],
   "source": [
    "SELECT username,comment_text\n",
    "FROM users\n",
    "LEFT JOIN comments ON users.id = comments.user_id\n",
    "GROUP BY users.id\n",
    "HAVING comment_text IS NULL;\n",
    "\n",
    "SELECT COUNT(*) FROM\n",
    "(SELECT username,comment_text\n",
    "\tFROM users\n",
    "\tLEFT JOIN comments ON users.id = comments.user_id\n",
    "\tGROUP BY users.id\n",
    "\tHAVING comment_text IS NULL) AS total_number_of_users_without_comments;"
   ]
  },
  {
   "cell_type": "markdown",
   "metadata": {},
   "source": [
    "**Are we overrun with bots and celebrity accounts? Find the percentage of our users who have either never commented on a photo or have commented on every photo**"
   ]
  },
  {
   "cell_type": "code",
   "execution_count": null,
   "metadata": {},
   "outputs": [],
   "source": [
    "SELECT tableA.total_A AS 'Number Of Users who never commented',\n",
    "\t\t(tableA.total_A/(SELECT COUNT(*) FROM users))*100 AS '%',\n",
    "\t\ttableB.total_B AS 'Number of Users who likes every photos',\n",
    "\t\t(tableB.total_B/(SELECT COUNT(*) FROM users))*100 AS '%'\n",
    "FROM\n",
    "\t(\n",
    "\t\tSELECT COUNT(*) AS total_A FROM\n",
    "\t\t\t(SELECT username,comment_text\n",
    "\t\t\t\tFROM users\n",
    "\t\t\t\tLEFT JOIN comments ON users.id = comments.user_id\n",
    "\t\t\t\tGROUP BY users.id\n",
    "\t\t\t\tHAVING comment_text IS NULL) AS total_number_of_users_without_comments\n",
    "\t) AS tableA\n",
    "\tJOIN\n",
    "\t(\n",
    "\t\tSELECT COUNT(*) AS total_B FROM\n",
    "\t\t\t(SELECT users.id,username, COUNT(users.id) As total_likes_by_user\n",
    "\t\t\t\tFROM users\n",
    "\t\t\t\tJOIN likes ON users.id = likes.user_id\n",
    "\t\t\t\tGROUP BY users.id\n",
    "\t\t\t\tHAVING total_likes_by_user = (SELECT COUNT(*) FROM photos)) AS total_number_users_likes_every_photos\n",
    "\t)AS tableB;\n"
   ]
  },
  {
   "cell_type": "markdown",
   "metadata": {},
   "source": [
    "**Find users who have ever commented on a photo**"
   ]
  },
  {
   "cell_type": "code",
   "execution_count": null,
   "metadata": {},
   "outputs": [],
   "source": [
    "SELECT username,comment_text\n",
    "FROM users\n",
    "LEFT JOIN comments ON users.id = comments.user_id\n",
    "GROUP BY users.id\n",
    "HAVING comment_text IS NOT NULL;\n",
    "\n",
    "\n",
    "SELECT COUNT(*) FROM\n",
    "(SELECT username,comment_text\n",
    "\tFROM users\n",
    "\tLEFT JOIN comments ON users.id = comments.user_id\n",
    "\tGROUP BY users.id\n",
    "\tHAVING comment_text IS NOT NULL) AS total_number_users_with_comments;"
   ]
  },
  {
   "cell_type": "markdown",
   "metadata": {},
   "source": [
    "**Are we overrun with bots and celebrity accounts? Find the percentage of our users who have either never commented on a photo or have commented on photos before.**"
   ]
  },
  {
   "cell_type": "code",
   "execution_count": null,
   "metadata": {},
   "outputs": [],
   "source": [
    "SELECT tableA.total_A AS 'Number Of Users who never commented',\n",
    "\t\t(tableA.total_A/(SELECT COUNT(*) FROM users))*100 AS '%',\n",
    "\t\ttableB.total_B AS 'Number of Users who commented on photos',\n",
    "\t\t(tableB.total_B/(SELECT COUNT(*) FROM users))*100 AS '%'\n",
    "FROM \n",
    "(\n",
    " SELECT COUNT(*) AS total_A FROM\n",
    "\t\t\t(SELECT username,comment_text\n",
    "\t\t\t\tFROM users\n",
    "\t\t\t\tLEFT JOIN comments ON users.id = comments.user_id\n",
    "\t\t\t\tGROUP BY users.id\n",
    "\t\t\t\tHAVING comment_text IS NULL) AS total_number_of_users_without_comments\n",
    "\t) AS tableA\n",
    "\tJOIN\n",
    "\t(\n",
    "\t\tSELECT COUNT(*) AS total_B FROM\n",
    "\t\t\t(SELECT username,comment_text\n",
    "\t\t\t\tFROM users\n",
    "\t\t\t\tLEFT JOIN comments ON users.id = comments.user_id\n",
    "\t\t\t\tGROUP BY users.id\n",
    "\t\t\t\tHAVING comment_text IS NOT NULL) AS total_number_users_with_comments\n",
    "\t)AS tableB\n"
   ]
  },
  {
   "cell_type": "code",
   "execution_count": null,
   "metadata": {},
   "outputs": [],
   "source": []
  }
 ],
 "metadata": {
  "kernelspec": {
   "display_name": "Python 3",
   "language": "python",
   "name": "python3"
  },
  "language_info": {
   "codemirror_mode": {
    "name": "ipython",
    "version": 3
   },
   "file_extension": ".py",
   "mimetype": "text/x-python",
   "name": "python",
   "nbconvert_exporter": "python",
   "pygments_lexer": "ipython3",
   "version": "3.8.3"
  }
 },
 "nbformat": 4,
 "nbformat_minor": 4
}
